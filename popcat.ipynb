{
 "cells": [
  {
   "cell_type": "code",
   "execution_count": 13,
   "id": "2361d2ab",
   "metadata": {},
   "outputs": [],
   "source": [
    "'''\n",
    "匯入工具\n",
    "\n",
    "備註: 每次執行以下任一範例前，都要執行一次\"匯入工具\"的 cell\n",
    "'''\n",
    "\n",
    "# 操作 browser 的 API\n",
    "from selenium import webdriver\n",
    "from selenium.webdriver.chrome.service import Service\n",
    "from webdriver_manager.chrome import ChromeDriverManager\n",
    "\n",
    "# 期待元素出現要透過什麼方式指定，通常與 EC、WebDriverWait 一起使用\n",
    "from selenium.webdriver.common.by import By\n",
    "\n",
    "# 加入行為鍊 ActionChain (在 WebDriver 中模擬滑鼠移動、點繫、拖曳、按右鍵出現選單，以及鍵盤輸入文字、按下鍵盤上的按鈕等)\n",
    "from selenium.webdriver.common.action_chains import ActionChains\n",
    "\n",
    "# 加入鍵盤功能 (例如 Ctrl、Alt 等)\n",
    "from selenium.webdriver.common.keys import Keys\n",
    "\n",
    "# 強制等待 (執行期間休息一下)\n",
    "from time import sleep\n",
    "\n",
    "# 啟動瀏覽器工具的選項\n",
    "my_options = webdriver.ChromeOptions()\n",
    "# my_options.add_argument(\"--headless\")                #不開啟實體瀏覽器背景執行\n",
    "my_options.add_argument(\"--start-maximized\")         #最大化視窗\n",
    "my_options.add_argument(\"--incognito\")               #開啟無痕模式\n",
    "my_options.add_argument(\"--disable-popup-blocking\") #禁用彈出攔截\n",
    "my_options.add_argument(\"--disable-notifications\")  #取消通知\n",
    "\n",
    "# 使用 Chrome 的 WebDriver\n",
    "driver = webdriver.Chrome(\n",
    "    options = my_options,\n",
    "    service = Service(ChromeDriverManager().install())\n",
    ")"
   ]
  },
  {
   "cell_type": "code",
   "execution_count": 12,
   "id": "aaf51ceb",
   "metadata": {},
   "outputs": [
    {
     "ename": "MoveTargetOutOfBoundsException",
     "evalue": "Message: move target out of bounds\n  (Session info: chrome=106.0.5249.119)\nStacktrace:\nBacktrace:\n\tOrdinal0 [0x00491ED3+2236115]\n\tOrdinal0 [0x004292F1+1807089]\n\tOrdinal0 [0x003365C0+812480]\n\tOrdinal0 [0x0039DD65+1236325]\n\tOrdinal0 [0x00381A8C+1120908]\n\tOrdinal0 [0x003959E2+1202658]\n\tOrdinal0 [0x003818A6+1120422]\n\tOrdinal0 [0x0035A73D+960317]\n\tOrdinal0 [0x0035B71F+964383]\n\tGetHandleVerifier [0x0073E7E2+2743074]\n\tGetHandleVerifier [0x007308D4+2685972]\n\tGetHandleVerifier [0x00522BAA+532202]\n\tGetHandleVerifier [0x00521990+527568]\n\tOrdinal0 [0x0043080C+1837068]\n\tOrdinal0 [0x00434CD8+1854680]\n\tOrdinal0 [0x00434DC5+1854917]\n\tOrdinal0 [0x0043ED64+1895780]\n\tBaseThreadInitThunk [0x76356739+25]\n\tRtlGetFullPathName_UEx [0x778E8FD2+1218]\n\tRtlGetFullPathName_UEx [0x778E8F9D+1165]\n",
     "output_type": "error",
     "traceback": [
      "\u001b[1;31m---------------------------------------------------------------------------\u001b[0m",
      "\u001b[1;31mMoveTargetOutOfBoundsException\u001b[0m            Traceback (most recent call last)",
      "Input \u001b[1;32mIn [12]\u001b[0m, in \u001b[0;36m<cell line: 26>\u001b[1;34m()\u001b[0m\n\u001b[0;32m     23\u001b[0m     ac\u001b[38;5;241m.\u001b[39mclick()\n\u001b[0;32m     25\u001b[0m \u001b[38;5;66;03m# 執行\u001b[39;00m\n\u001b[1;32m---> 26\u001b[0m \u001b[43mac\u001b[49m\u001b[38;5;241;43m.\u001b[39;49m\u001b[43mperform\u001b[49m\u001b[43m(\u001b[49m\u001b[43m)\u001b[49m\n\u001b[0;32m     28\u001b[0m \u001b[38;5;66;03m# 睡一下\u001b[39;00m\n\u001b[0;32m     29\u001b[0m sleep(\u001b[38;5;241m5\u001b[39m)\n",
      "File \u001b[1;32m~\\anaconda3\\lib\\site-packages\\selenium\\webdriver\\common\\action_chains.py:78\u001b[0m, in \u001b[0;36mActionChains.perform\u001b[1;34m(self)\u001b[0m\n\u001b[0;32m     74\u001b[0m \u001b[38;5;28;01mdef\u001b[39;00m \u001b[38;5;21mperform\u001b[39m(\u001b[38;5;28mself\u001b[39m):\n\u001b[0;32m     75\u001b[0m     \u001b[38;5;124;03m\"\"\"\u001b[39;00m\n\u001b[0;32m     76\u001b[0m \u001b[38;5;124;03m    Performs all stored actions.\u001b[39;00m\n\u001b[0;32m     77\u001b[0m \u001b[38;5;124;03m    \"\"\"\u001b[39;00m\n\u001b[1;32m---> 78\u001b[0m     \u001b[38;5;28;43mself\u001b[39;49m\u001b[38;5;241;43m.\u001b[39;49m\u001b[43mw3c_actions\u001b[49m\u001b[38;5;241;43m.\u001b[39;49m\u001b[43mperform\u001b[49m\u001b[43m(\u001b[49m\u001b[43m)\u001b[49m\n",
      "File \u001b[1;32m~\\anaconda3\\lib\\site-packages\\selenium\\webdriver\\common\\actions\\action_builder.py:88\u001b[0m, in \u001b[0;36mActionBuilder.perform\u001b[1;34m(self)\u001b[0m\n\u001b[0;32m     86\u001b[0m         enc[\u001b[38;5;124m\"\u001b[39m\u001b[38;5;124mactions\u001b[39m\u001b[38;5;124m\"\u001b[39m]\u001b[38;5;241m.\u001b[39mappend(encoded)\n\u001b[0;32m     87\u001b[0m         device\u001b[38;5;241m.\u001b[39mactions \u001b[38;5;241m=\u001b[39m []\n\u001b[1;32m---> 88\u001b[0m \u001b[38;5;28;43mself\u001b[39;49m\u001b[38;5;241;43m.\u001b[39;49m\u001b[43mdriver\u001b[49m\u001b[38;5;241;43m.\u001b[39;49m\u001b[43mexecute\u001b[49m\u001b[43m(\u001b[49m\u001b[43mCommand\u001b[49m\u001b[38;5;241;43m.\u001b[39;49m\u001b[43mW3C_ACTIONS\u001b[49m\u001b[43m,\u001b[49m\u001b[43m \u001b[49m\u001b[43menc\u001b[49m\u001b[43m)\u001b[49m\n",
      "File \u001b[1;32m~\\anaconda3\\lib\\site-packages\\selenium\\webdriver\\remote\\webdriver.py:429\u001b[0m, in \u001b[0;36mWebDriver.execute\u001b[1;34m(self, driver_command, params)\u001b[0m\n\u001b[0;32m    427\u001b[0m response \u001b[38;5;241m=\u001b[39m \u001b[38;5;28mself\u001b[39m\u001b[38;5;241m.\u001b[39mcommand_executor\u001b[38;5;241m.\u001b[39mexecute(driver_command, params)\n\u001b[0;32m    428\u001b[0m \u001b[38;5;28;01mif\u001b[39;00m response:\n\u001b[1;32m--> 429\u001b[0m     \u001b[38;5;28;43mself\u001b[39;49m\u001b[38;5;241;43m.\u001b[39;49m\u001b[43merror_handler\u001b[49m\u001b[38;5;241;43m.\u001b[39;49m\u001b[43mcheck_response\u001b[49m\u001b[43m(\u001b[49m\u001b[43mresponse\u001b[49m\u001b[43m)\u001b[49m\n\u001b[0;32m    430\u001b[0m     response[\u001b[38;5;124m'\u001b[39m\u001b[38;5;124mvalue\u001b[39m\u001b[38;5;124m'\u001b[39m] \u001b[38;5;241m=\u001b[39m \u001b[38;5;28mself\u001b[39m\u001b[38;5;241m.\u001b[39m_unwrap_value(\n\u001b[0;32m    431\u001b[0m         response\u001b[38;5;241m.\u001b[39mget(\u001b[38;5;124m'\u001b[39m\u001b[38;5;124mvalue\u001b[39m\u001b[38;5;124m'\u001b[39m, \u001b[38;5;28;01mNone\u001b[39;00m))\n\u001b[0;32m    432\u001b[0m     \u001b[38;5;28;01mreturn\u001b[39;00m response\n",
      "File \u001b[1;32m~\\anaconda3\\lib\\site-packages\\selenium\\webdriver\\remote\\errorhandler.py:243\u001b[0m, in \u001b[0;36mErrorHandler.check_response\u001b[1;34m(self, response)\u001b[0m\n\u001b[0;32m    241\u001b[0m         alert_text \u001b[38;5;241m=\u001b[39m value[\u001b[38;5;124m'\u001b[39m\u001b[38;5;124malert\u001b[39m\u001b[38;5;124m'\u001b[39m]\u001b[38;5;241m.\u001b[39mget(\u001b[38;5;124m'\u001b[39m\u001b[38;5;124mtext\u001b[39m\u001b[38;5;124m'\u001b[39m)\n\u001b[0;32m    242\u001b[0m     \u001b[38;5;28;01mraise\u001b[39;00m exception_class(message, screen, stacktrace, alert_text)  \u001b[38;5;66;03m# type: ignore[call-arg]  # mypy is not smart enough here\u001b[39;00m\n\u001b[1;32m--> 243\u001b[0m \u001b[38;5;28;01mraise\u001b[39;00m exception_class(message, screen, stacktrace)\n",
      "\u001b[1;31mMoveTargetOutOfBoundsException\u001b[0m: Message: move target out of bounds\n  (Session info: chrome=106.0.5249.119)\nStacktrace:\nBacktrace:\n\tOrdinal0 [0x00491ED3+2236115]\n\tOrdinal0 [0x004292F1+1807089]\n\tOrdinal0 [0x003365C0+812480]\n\tOrdinal0 [0x0039DD65+1236325]\n\tOrdinal0 [0x00381A8C+1120908]\n\tOrdinal0 [0x003959E2+1202658]\n\tOrdinal0 [0x003818A6+1120422]\n\tOrdinal0 [0x0035A73D+960317]\n\tOrdinal0 [0x0035B71F+964383]\n\tGetHandleVerifier [0x0073E7E2+2743074]\n\tGetHandleVerifier [0x007308D4+2685972]\n\tGetHandleVerifier [0x00522BAA+532202]\n\tGetHandleVerifier [0x00521990+527568]\n\tOrdinal0 [0x0043080C+1837068]\n\tOrdinal0 [0x00434CD8+1854680]\n\tOrdinal0 [0x00434DC5+1854917]\n\tOrdinal0 [0x0043ED64+1895780]\n\tBaseThreadInitThunk [0x76356739+25]\n\tRtlGetFullPathName_UEx [0x778E8FD2+1218]\n\tRtlGetFullPathName_UEx [0x778E8F9D+1165]\n"
     ]
    }
   ],
   "source": [
    "'''\n",
    "範例 1: 對特定座標連續點擊\n",
    "\n",
    "參考連結:\n",
    "[1] Crazy Game - Planet Clicker 2\n",
    "https://www.crazygames.com/game/planet-clicker-2\n",
    "[2] 擴充功能 coordinates\n",
    "https://chrome.google.com/webstore/detail/coordinates/bpflbjmbfccblbhlcmlgkajdpoiepmkd\n",
    "'''\n",
    "\n",
    "# 前往頁面\n",
    "driver.get('https://popcat.click/')\n",
    "\n",
    "# 建立行為鍊\n",
    "ac = ActionChains(driver)\n",
    "\n",
    "# 移到指定座標 (從 0,0 開始)\n",
    "ac.move_by_offset(700, 250)\n",
    "\n",
    "\n",
    "# 點擊一下\n",
    "for i in range(2000):\n",
    "    ac.click()\n",
    "\n",
    "# 執行\n",
    "ac.perform()\n",
    "\n",
    "# 睡一下\n",
    "sleep(5)\n",
    "\n",
    "# 關閉 web driver\n",
    "#driver.quit()"
   ]
  }
 ],
 "metadata": {
  "kernelspec": {
   "display_name": "Python 3 (ipykernel)",
   "language": "python",
   "name": "python3"
  },
  "language_info": {
   "codemirror_mode": {
    "name": "ipython",
    "version": 3
   },
   "file_extension": ".py",
   "mimetype": "text/x-python",
   "name": "python",
   "nbconvert_exporter": "python",
   "pygments_lexer": "ipython3",
   "version": "3.9.12"
  }
 },
 "nbformat": 4,
 "nbformat_minor": 5
}
