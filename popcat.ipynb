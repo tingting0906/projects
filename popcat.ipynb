{
 "cells": [
  {
   "cell_type": "code",
   "execution_count": 1,
   "id": "2361d2ab",
   "metadata": {},
   "outputs": [
    {
     "name": "stderr",
     "output_type": "stream",
     "text": [
      "[WDM] - Downloading: 100%|████████████████████████████████████████████████████████| 6.58M/6.58M [00:05<00:00, 1.33MB/s]\n"
     ]
    }
   ],
   "source": [
    "'''\n",
    "匯入工具\n",
    "\n",
    "備註: 每次執行以下任一範例前，都要執行一次\"匯入工具\"的 cell\n",
    "'''\n",
    "\n",
    "# 操作 browser 的 API\n",
    "from selenium import webdriver\n",
    "from selenium.webdriver.chrome.service import Service\n",
    "from webdriver_manager.chrome import ChromeDriverManager\n",
    "\n",
    "# 期待元素出現要透過什麼方式指定，通常與 EC、WebDriverWait 一起使用\n",
    "from selenium.webdriver.common.by import By\n",
    "\n",
    "# 加入行為鍊 ActionChain (在 WebDriver 中模擬滑鼠移動、點繫、拖曳、按右鍵出現選單，以及鍵盤輸入文字、按下鍵盤上的按鈕等)\n",
    "from selenium.webdriver.common.action_chains import ActionChains\n",
    "\n",
    "# 加入鍵盤功能 (例如 Ctrl、Alt 等)\n",
    "from selenium.webdriver.common.keys import Keys\n",
    "\n",
    "# 強制等待 (執行期間休息一下)\n",
    "from time import sleep\n",
    "\n",
    "# 啟動瀏覽器工具的選項\n",
    "my_options = webdriver.ChromeOptions()\n",
    "# my_options.add_argument(\"--headless\")                #不開啟實體瀏覽器背景執行\n",
    "my_options.add_argument(\"--start-maximized\")         #最大化視窗\n",
    "my_options.add_argument(\"--incognito\")               #開啟無痕模式\n",
    "my_options.add_argument(\"--disable-popup-blocking\") #禁用彈出攔截\n",
    "my_options.add_argument(\"--disable-notifications\")  #取消通知\n",
    "\n",
    "# 使用 Chrome 的 WebDriver\n",
    "driver = webdriver.Chrome(\n",
    "    options = my_options,\n",
    "    service = Service(ChromeDriverManager().install())\n",
    ")"
   ]
  },
  {
   "cell_type": "code",
   "execution_count": 2,
   "id": "aaf51ceb",
   "metadata": {},
   "outputs": [],
   "source": [
    "'''\n",
    "範例 1: 對特定座標連續點擊\n",
    "\n",
    "參考連結:\n",
    "[1] Crazy Game - Planet Clicker 2\n",
    "https://www.crazygames.com/game/planet-clicker-2\n",
    "[2] 擴充功能 coordinates\n",
    "https://chrome.google.com/webstore/detail/coordinates/bpflbjmbfccblbhlcmlgkajdpoiepmkd\n",
    "'''\n",
    "\n",
    "# 前往頁面\n",
    "driver.get('https://popcat.click/')\n",
    "\n",
    "# 建立行為鍊\n",
    "ac = ActionChains(driver)\n",
    "\n",
    "# 移到指定座標 (從 0,0 開始)\n",
    "ac.move_by_offset(700, 250)\n",
    "\n",
    "\n",
    "# 點擊一下\n",
    "for i in range(2000):\n",
    "    ac.click()\n",
    "\n",
    "# 執行\n",
    "ac.perform()\n",
    "\n",
    "# 睡一下\n",
    "sleep(5)\n",
    "\n",
    "# 關閉 web driver\n",
    "#driver.quit()"
   ]
  }
 ],
 "metadata": {
  "kernelspec": {
   "display_name": "Python 3 (ipykernel)",
   "language": "python",
   "name": "python3"
  },
  "language_info": {
   "codemirror_mode": {
    "name": "ipython",
    "version": 3
   },
   "file_extension": ".py",
   "mimetype": "text/x-python",
   "name": "python",
   "nbconvert_exporter": "python",
   "pygments_lexer": "ipython3",
   "version": "3.9.12"
  }
 },
 "nbformat": 4,
 "nbformat_minor": 5
}
